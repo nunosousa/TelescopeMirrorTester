{
 "cells": [
  {
   "cell_type": "markdown",
   "id": "fba93474",
   "metadata": {},
   "source": [
    "# Focault test data reduction\n",
    "\n",
    "This document will describe step by step the process of extracting the surface profile of a telescope mirror from Foucault or Wire test data.\n",
    "\n",
    "## Modeling the data\n",
    "\n",
    "Before jumping into the simulation, we need to find the model that will obtain the mirror surface profile from test data.\n",
    "After that, we will perform a simulation with real world data.\n",
    "\n",
    "### Derivation of the equations\n",
    "\n",
    "First we need to derive the set of equations that will alow to obtaing the mirror surface profile from test data.\n",
    "\n",
    "For a generic concave mirror surface, the Foucault or Wire tests will show for each mirror radius the equivalent radius of curvature it has. This can be interpreted as finding a succession of spherical surfaces that approximate the existing mirror surface (dashed curve in figure). Obviously that for a completely spherical mirror surface, there is exactly one sphere that matches the whole surface.\n",
    "\n",
    "<img src=\"figures/diagram_1.svg\"/>\n",
    "\n",
    "The result of these tests is a set of data pairs consisting of mirror diameter $x$ (independent variable) and its respective radius of curvature $f(x)$ (dependent variable).\n",
    "\n",
    "To help formulate the equations that model these tests, we can instead think of vectors $G(x)$ and $F(x)$ representing surface height respective to its center and radius of curvature respectively:\n",
    "\n",
    "$G(x) = \\langle x, g(x) \\rangle$\n",
    "\n",
    "$F(x) = \\langle 0, f(x) \\rangle$\n",
    "\n",
    "Subtracting the two vectors gives:\n",
    "\n",
    "$F(x) - G(x) = \\langle 0 - x, f(x)-g(x) \\rangle = \\langle -x, f(x) - g(x) \\rangle$\n",
    "\n",
    "If we then represent the tangent vector to mirror surface at $G(x)$:\n",
    "\n",
    "$T(x) = \\frac{G'(x)}{|G'(x)|} = \\langle\\frac{1}{|G'(x)|}, \\frac{z'(x)}{|G'(x)|}\\rangle$\n",
    "\n",
    "Then it follows that:\n",
    "\n",
    "$T(x) \\cdot (F(x) - G(x)) = 0$\n",
    "\n",
    "$\\left( - \\frac{x}{|G'(x)|} + (f(x) - g(x))\\frac{g'(x)}{|G'(x)|} \\right) = 0$\n",
    "\n",
    "$(f(x) - g(x))g'(x) = x$\n",
    "\n",
    "This results in the following differential equation:\n",
    "\n",
    "$g'(x) = \\frac{x}{f(x) - g(x)}$\n",
    "\n",
    "Knowing the data pairs $x$ and $f(x)$, we can integrate the equation above and get the mirror surface profile.\n",
    "\n",
    "### Integrating test data\n",
    "\n",
    "Now in order to "
   ]
  },
  {
   "cell_type": "code",
   "execution_count": 3,
   "id": "fd4b74e2",
   "metadata": {},
   "outputs": [],
   "source": [
    "import json"
   ]
  },
  {
   "cell_type": "markdown",
   "id": "089bae85",
   "metadata": {},
   "source": [
    "Extract data points"
   ]
  },
  {
   "cell_type": "code",
   "execution_count": 6,
   "id": "ca36a82d",
   "metadata": {},
   "outputs": [
    {
     "name": "stdout",
     "output_type": "stream",
     "text": [
      "\n",
      "Offset:  1.1\n",
      "\n",
      "Offset:  1.3\n",
      "\n",
      "Offset:  1.5\n"
     ]
    }
   ],
   "source": [
    "with open('mirror_measurements_database.json', \"r\") as data_base_file:\n",
    "    data_base = json.load(data_base_file)\n",
    "    data_base_file.close()\n",
    "\n",
    "measurements = sorted(data_base['measurements'], key=lambda m: m['optical_axis_offset'])\n",
    "\n",
    "number_of_measurements = len(measurements)\n",
    "\n",
    "for measurement in measurements:\n",
    "    print(\"\\nOffset: \", measurement['optical_axis_offset'])"
   ]
  },
  {
   "cell_type": "code",
   "execution_count": null,
   "id": "c4126bdb",
   "metadata": {},
   "outputs": [],
   "source": [
    "import numpy as np"
   ]
  },
  {
   "cell_type": "markdown",
   "id": "81b4f882",
   "metadata": {},
   "source": [
    "kjhkjhkh"
   ]
  },
  {
   "cell_type": "code",
   "execution_count": 31,
   "id": "7e08d397",
   "metadata": {},
   "outputs": [
    {
     "ename": "NameError",
     "evalue": "name 'x' is not defined",
     "output_type": "error",
     "traceback": [
      "\u001b[1;31m---------------------------------------------------------------------------\u001b[0m",
      "\u001b[1;31mNameError\u001b[0m                                 Traceback (most recent call last)",
      "\u001b[1;32m~\\AppData\\Local\\Temp/ipykernel_7656/2184968708.py\u001b[0m in \u001b[0;36m<module>\u001b[1;34m\u001b[0m\n\u001b[0;32m      1\u001b[0m \u001b[1;32mfrom\u001b[0m \u001b[0mscipy\u001b[0m \u001b[1;32mimport\u001b[0m \u001b[0minterpolate\u001b[0m\u001b[1;33m\u001b[0m\u001b[1;33m\u001b[0m\u001b[0m\n\u001b[0;32m      2\u001b[0m \u001b[1;33m\u001b[0m\u001b[0m\n\u001b[1;32m----> 3\u001b[1;33m \u001b[0minterpolation_function\u001b[0m \u001b[1;33m=\u001b[0m \u001b[0minterpolate\u001b[0m\u001b[1;33m.\u001b[0m\u001b[0minterp1d\u001b[0m\u001b[1;33m(\u001b[0m\u001b[0mx\u001b[0m\u001b[1;33m,\u001b[0m \u001b[0mf\u001b[0m\u001b[1;33m,\u001b[0m \u001b[0mkind\u001b[0m\u001b[1;33m=\u001b[0m\u001b[1;34m\"cubic\"\u001b[0m\u001b[1;33m)\u001b[0m\u001b[1;33m\u001b[0m\u001b[1;33m\u001b[0m\u001b[0m\n\u001b[0m\u001b[0;32m      4\u001b[0m \u001b[1;33m\u001b[0m\u001b[0m\n\u001b[0;32m      5\u001b[0m \u001b[0mnum_samples\u001b[0m \u001b[1;33m=\u001b[0m \u001b[1;33m(\u001b[0m\u001b[0mx\u001b[0m\u001b[1;33m[\u001b[0m\u001b[1;33m-\u001b[0m\u001b[1;36m1\u001b[0m\u001b[1;33m]\u001b[0m \u001b[1;33m-\u001b[0m \u001b[0mx\u001b[0m\u001b[1;33m[\u001b[0m\u001b[1;36m0\u001b[0m\u001b[1;33m]\u001b[0m\u001b[1;33m)\u001b[0m\u001b[1;33m*\u001b[0m\u001b[1;36m2\u001b[0m\u001b[1;33m\u001b[0m\u001b[1;33m\u001b[0m\u001b[0m\n",
      "\u001b[1;31mNameError\u001b[0m: name 'x' is not defined"
     ]
    }
   ],
   "source": [
    "from scipy import interpolate\n",
    "\n",
    "interpolation_function = interpolate.interp1d(x, f, kind=\"cubic\")\n",
    "\n",
    "num_samples = (x[-1] - x[0])*2\n",
    "\n",
    "x_interpolated = np.linspace(x[0], x[-1], num=num_samples)\n",
    "f_interpolated = interpolation_function(x_interpolated)"
   ]
  },
  {
   "cell_type": "markdown",
   "id": "6ff5583b",
   "metadata": {},
   "source": [
    "kjhkhkjh"
   ]
  },
  {
   "cell_type": "code",
   "execution_count": null,
   "id": "3f40934c",
   "metadata": {},
   "outputs": [],
   "source": [
    "def aspheric_surface_ode(r, z, f):\n",
    "    dz = np.divide(r, np.subtract(f, z))\n",
    "    return dz"
   ]
  },
  {
   "cell_type": "code",
   "execution_count": null,
   "id": "be181d2d",
   "metadata": {},
   "outputs": [],
   "source": [
    "from scipy.integrate import solve_ivp\n",
    "\n",
    "\n",
    "ode_solution = solve_ivp(fun=lambda r, z: aspheric_surface_ode(r, z, test_data_interpolation_function(r)),\n",
    "                         t_span=[r_sample_points[0], r_sample_points[-1]],\n",
    "                         y0=[0.0],\n",
    "                         method=\"RK45\",\n",
    "                         t_eval=r_sample_points,\n",
    "                         dense_output=True)\n",
    "\n",
    "solve_bvp()"
   ]
  },
  {
   "cell_type": "code",
   "execution_count": null,
   "id": "6ee8eda6",
   "metadata": {},
   "outputs": [],
   "source": [
    "results = (r_sample_points,\n",
    "           f_test_data_interpolated_points - self.mirror_details['expected_radius_of_curvature'],\n",
    "           np.reshape(ode_solution.y, (-1)))"
   ]
  }
 ],
 "metadata": {
  "kernelspec": {
   "display_name": "Python 3 (ipykernel)",
   "language": "python",
   "name": "python3"
  },
  "language_info": {
   "codemirror_mode": {
    "name": "ipython",
    "version": 3
   },
   "file_extension": ".py",
   "mimetype": "text/x-python",
   "name": "python",
   "nbconvert_exporter": "python",
   "pygments_lexer": "ipython3",
   "version": "3.8.12"
  }
 },
 "nbformat": 4,
 "nbformat_minor": 5
}
