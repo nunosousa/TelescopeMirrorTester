{
 "cells": [
  {
   "cell_type": "markdown",
   "id": "fba93474",
   "metadata": {},
   "source": [
    "# Focault test data reduction\n",
    "\n",
    "This document will describe step by step the process of extracting the surface profile of a telescope mirror from Foucault or wire test data.\n",
    "\n",
    "## Derivation of the mirror curve from test data\n",
    "\n",
    "![title](figures/diagram_1.svg)\n",
    "\n",
    "$G(x) = \\langle x, g(x) \\rangle$\n",
    "\n",
    "$F(x) = \\langle 0, f(x) \\rangle$\n",
    "\n",
    "$T(x) = \\frac{G'(x)}{|G'(x)|} = \\langle\\frac{1}{|G'(x)|}, \\frac{z'(x)}{|G'(x)|}\\rangle$\n",
    "\n",
    "$F(x) - G(x) = \\langle 0 - x, f(x)-g(x) \\rangle = \\langle -x, f(x) - g(x) \\rangle$\n",
    "\n",
    "$T(x) \\cdot (F(x) - G(x)) = 0$\n",
    "\n",
    "$\\left( - \\frac{x}{|G'(x)|} + (f(x) - g(x))\\frac{g'(x)}{|G'(x)|} \\right) = 0$\n",
    "\n",
    "$(f(x) - g(x))g'(x) = x$\n",
    "\n",
    "$g'(x) = \\frac{x}{f(x) - g(x)}$\n",
    "\n",
    "### kjhkhkhkjh"
   ]
  },
  {
   "cell_type": "code",
   "execution_count": null,
   "id": "fd4b74e2",
   "metadata": {},
   "outputs": [],
   "source": []
  },
  {
   "cell_type": "code",
   "execution_count": null,
   "id": "7e08d397",
   "metadata": {},
   "outputs": [],
   "source": []
  },
  {
   "cell_type": "code",
   "execution_count": null,
   "id": "822405b3",
   "metadata": {},
   "outputs": [],
   "source": []
  },
  {
   "cell_type": "code",
   "execution_count": null,
   "id": "6ee8eda6",
   "metadata": {},
   "outputs": [],
   "source": []
  }
 ],
 "metadata": {
  "kernelspec": {
   "display_name": "Python 3 (ipykernel)",
   "language": "python",
   "name": "python3"
  },
  "language_info": {
   "codemirror_mode": {
    "name": "ipython",
    "version": 3
   },
   "file_extension": ".py",
   "mimetype": "text/x-python",
   "name": "python",
   "nbconvert_exporter": "python",
   "pygments_lexer": "ipython3",
   "version": "3.8.12"
  }
 },
 "nbformat": 4,
 "nbformat_minor": 5
}
