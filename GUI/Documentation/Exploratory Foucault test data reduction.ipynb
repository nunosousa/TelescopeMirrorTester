{
 "cells": [
  {
   "cell_type": "markdown",
   "id": "fba93474",
   "metadata": {},
   "source": [
    "# Focault test data reduction\n",
    "\n",
    "This document will describe step by step the process of extracting the surface profile of a telescope mirror from Foucault test data.\n",
    "\n",
    "## Derivation of the mirror curve from test data\n",
    "\n",
    "$Z(x) = \\langle x, z(x) \\rangle$\n",
    "\n",
    "$F(x) = \\langle 0, f(x) \\rangle$\n",
    "\n",
    "$T(x) = \\frac{Z'(x)}{|Z'(x)|} = \\langle\\frac{1}{|Z'(x)|}, \\frac{z'(x)}{|Z'(x)|}\\rangle$\n",
    "\n",
    "$F(x) - Z(x) = \\langle 0 - x, f(x)-z(x) \\rangle = \\langle -x, f(x) - z(x) \\rangle$\n",
    "\n",
    "$T(x) \\cdot (F(x) - Z(x)) = 0$\n",
    "\n",
    "$\\left( - \\frac{x}{|Z'(x)|} + (f(x) - z(x))\\frac{z'(x)}{|Z'(x)|} \\right) = 0$\n",
    "\n",
    "$(f(x) - z(x))z'(x) = x$\n",
    "\n",
    "$z'(x) = \\frac{x}{f(x) - z(x)}$\n",
    "\n",
    "### kjhkhkhkjh"
   ]
  },
  {
   "cell_type": "code",
   "execution_count": null,
   "id": "fd4b74e2",
   "metadata": {},
   "outputs": [],
   "source": []
  },
  {
   "cell_type": "code",
   "execution_count": null,
   "id": "7e08d397",
   "metadata": {},
   "outputs": [],
   "source": []
  },
  {
   "cell_type": "code",
   "execution_count": null,
   "id": "822405b3",
   "metadata": {},
   "outputs": [],
   "source": []
  }
 ],
 "metadata": {
  "kernelspec": {
   "display_name": "Python 3 (ipykernel)",
   "language": "python",
   "name": "python3"
  },
  "language_info": {
   "codemirror_mode": {
    "name": "ipython",
    "version": 3
   },
   "file_extension": ".py",
   "mimetype": "text/x-python",
   "name": "python",
   "nbconvert_exporter": "python",
   "pygments_lexer": "ipython3",
   "version": "3.8.12"
  }
 },
 "nbformat": 4,
 "nbformat_minor": 5
}
