{
 "cells": [
  {
   "cell_type": "markdown",
   "id": "fba93474",
   "metadata": {},
   "source": [
    "# 1. Introduction\n",
    "tbd\n",
    "\n",
    "motivation\n",
    "\n",
    "previous state of the art\n",
    "\n",
    "# 2. Focault test data reduction\n",
    "\n",
    "This document will describe step by step the process of extracting the surface profile of a telescope mirror from Foucault or Wire test data.\n",
    "\n",
    "## 2.1. Obtaining the mirror profile\n",
    "\n",
    "Before jumping into the simulation, we need to find the model that will obtain the mirror surface profile from test data.\n",
    "After that, we will perform a simulation with real world data.\n",
    "\n",
    "### 2.1.1. Deriving the equations\n",
    "\n",
    "First we need to derive the set of equations that will alow to obtaing the mirror surface profile from test data.\n",
    "\n",
    "For a generic concave mirror surface, the Foucault or Wire tests will show for each mirror radius the equivalent radius of curvature it has. This can be interpreted as finding a succession of spherical surfaces that approximate the existing mirror surface (dashed curve in figure). Obviously that for a completely spherical mirror surface, there is exactly one sphere that matches the whole surface.\n",
    "\n",
    "<img src=\"figures/diagram_1.svg\" width=\"800\"/>\n",
    "\n",
    "The result of these tests is a set of data pairs consisting of mirror diameter $x$ (independent variable) and its respective radius of curvature $f(x)$ (dependent variable).\n",
    "\n",
    "To help formulate the equations that model these tests, we can instead think of vectors $G(x)$ and $F(x)$ representing surface height respective to its center and radius of curvature respectively:\n",
    "\n",
    "\\begin{align}\n",
    "G(x) = \\langle x, g(x) \\rangle \\\\\n",
    "F(x) = \\langle 0, f(x) \\rangle\n",
    "\\end{align}\n",
    "\n",
    "Subtracting the two vectors gives:\n",
    "\n",
    "\\begin{equation}\n",
    "F(x) - G(x) = \\langle 0 - x, f(x)-g(x) \\rangle = \\langle -x, f(x) - g(x) \\rangle\n",
    "\\end{equation}\n",
    "\n",
    "If we then represent the tangent vector to mirror surface at $G(x)$:\n",
    "\n",
    "\\begin{equation}\n",
    "T(x) = \\frac{G'(x)}{|G'(x)|} = \\langle\\frac{1}{|G'(x)|}, \\frac{z'(x)}{|G'(x)|}\\rangle\n",
    "\\end{equation}\n",
    "\n",
    "Then it follows that:\n",
    "\n",
    "\\begin{align}\n",
    "T(x) \\cdot (F(x) - G(x)) = 0 \\\\\n",
    "\\left( - \\frac{x}{|G'(x)|} + (f(x) - g(x))\\frac{g'(x)}{|G'(x)|} \\right) = 0\\\\\n",
    "(f(x) - g(x))g'(x) = x\n",
    "\\end{align}\n",
    "\n",
    "This results in the following differential equation:\n",
    "\n",
    "\\begin{equation}\n",
    "g'(x) = \\frac{x}{f(x) - g(x)}\n",
    "\\end{equation}\n",
    "\n",
    "Knowing the data pairs $x$ and $f(x)$, we can integrate the equation above and get the mirror surface profile.\n",
    "\n",
    "### 2.1.2. Finding a solution\n",
    "\n",
    "Now in order to ... tbd Runge Kutta\n",
    "\n",
    "### 2.1.3. Real world example"
   ]
  },
  {
   "cell_type": "markdown",
   "id": "82f8e4f2",
   "metadata": {},
   "source": [
    "The real world collected data that will be used in this exercise is stored in a JSON file.\n",
    "\n",
    "First we need to read the test data from the JSON file."
   ]
  },
  {
   "cell_type": "code",
   "execution_count": 1,
   "id": "ca36a82d",
   "metadata": {},
   "outputs": [],
   "source": [
    "import json\n",
    "\n",
    "with open('mirror_measurements_database.json', \"r\") as data_base_file:\n",
    "    data_base = json.load(data_base_file)\n",
    "    data_base_file.close()\n",
    "\n",
    "diameter = data_base['diameter']\n",
    "radius_of_curvature = data_base['radius_of_curvature_measurement']['radius_of_curvature']\n",
    "measurements = sorted(data_base['measurements'], key=lambda m: m['optical_axis_offset'])"
   ]
  },
  {
   "cell_type": "markdown",
   "id": "94948f1e",
   "metadata": {},
   "source": [
    "For convenience and to allow later use of the SciPy mathematical functions, we will first transform the data into Numpy arrays."
   ]
  },
  {
   "cell_type": "code",
   "execution_count": 2,
   "id": "c4126bdb",
   "metadata": {},
   "outputs": [
    {
     "data": {
      "text/html": [
       "<div>\n",
       "<style scoped>\n",
       "    .dataframe tbody tr th:only-of-type {\n",
       "        vertical-align: middle;\n",
       "    }\n",
       "\n",
       "    .dataframe tbody tr th {\n",
       "        vertical-align: top;\n",
       "    }\n",
       "\n",
       "    .dataframe thead th {\n",
       "        text-align: right;\n",
       "    }\n",
       "</style>\n",
       "<table border=\"1\" class=\"dataframe\">\n",
       "  <thead>\n",
       "    <tr style=\"text-align: right;\">\n",
       "      <th></th>\n",
       "      <th>optical_axis_offset</th>\n",
       "      <th>mirror_radius</th>\n",
       "      <th>foucaultgram</th>\n",
       "    </tr>\n",
       "  </thead>\n",
       "  <tbody>\n",
       "    <tr>\n",
       "      <th>0</th>\n",
       "      <td>0.50</td>\n",
       "      <td>43.08</td>\n",
       "      <td>na.jpg</td>\n",
       "    </tr>\n",
       "    <tr>\n",
       "      <th>1</th>\n",
       "      <td>0.60</td>\n",
       "      <td>47.55</td>\n",
       "      <td>na.jpg</td>\n",
       "    </tr>\n",
       "    <tr>\n",
       "      <th>2</th>\n",
       "      <td>0.70</td>\n",
       "      <td>51.57</td>\n",
       "      <td>na.jpg</td>\n",
       "    </tr>\n",
       "    <tr>\n",
       "      <th>3</th>\n",
       "      <td>0.80</td>\n",
       "      <td>55.37</td>\n",
       "      <td>na.jpg</td>\n",
       "    </tr>\n",
       "    <tr>\n",
       "      <th>4</th>\n",
       "      <td>0.90</td>\n",
       "      <td>61.65</td>\n",
       "      <td>na.jpg</td>\n",
       "    </tr>\n",
       "    <tr>\n",
       "      <th>5</th>\n",
       "      <td>1.00</td>\n",
       "      <td>64.06</td>\n",
       "      <td>na.jpg</td>\n",
       "    </tr>\n",
       "    <tr>\n",
       "      <th>6</th>\n",
       "      <td>1.10</td>\n",
       "      <td>67.20</td>\n",
       "      <td>na.jpg</td>\n",
       "    </tr>\n",
       "    <tr>\n",
       "      <th>7</th>\n",
       "      <td>1.20</td>\n",
       "      <td>69.21</td>\n",
       "      <td>na.jpg</td>\n",
       "    </tr>\n",
       "    <tr>\n",
       "      <th>8</th>\n",
       "      <td>1.30</td>\n",
       "      <td>72.82</td>\n",
       "      <td>na.jpg</td>\n",
       "    </tr>\n",
       "    <tr>\n",
       "      <th>9</th>\n",
       "      <td>1.40</td>\n",
       "      <td>74.63</td>\n",
       "      <td>na.jpg</td>\n",
       "    </tr>\n",
       "    <tr>\n",
       "      <th>10</th>\n",
       "      <td>1.45</td>\n",
       "      <td>76.21</td>\n",
       "      <td>na.jpg</td>\n",
       "    </tr>\n",
       "    <tr>\n",
       "      <th>11</th>\n",
       "      <td>1.50</td>\n",
       "      <td>77.88</td>\n",
       "      <td>na.jpg</td>\n",
       "    </tr>\n",
       "    <tr>\n",
       "      <th>12</th>\n",
       "      <td>1.55</td>\n",
       "      <td>78.59</td>\n",
       "      <td>na.jpg</td>\n",
       "    </tr>\n",
       "    <tr>\n",
       "      <th>13</th>\n",
       "      <td>1.60</td>\n",
       "      <td>80.61</td>\n",
       "      <td>na.jpg</td>\n",
       "    </tr>\n",
       "    <tr>\n",
       "      <th>14</th>\n",
       "      <td>1.65</td>\n",
       "      <td>82.12</td>\n",
       "      <td>na.jpg</td>\n",
       "    </tr>\n",
       "    <tr>\n",
       "      <th>15</th>\n",
       "      <td>1.70</td>\n",
       "      <td>83.96</td>\n",
       "      <td>na.jpg</td>\n",
       "    </tr>\n",
       "    <tr>\n",
       "      <th>16</th>\n",
       "      <td>1.75</td>\n",
       "      <td>85.48</td>\n",
       "      <td>na.jpg</td>\n",
       "    </tr>\n",
       "    <tr>\n",
       "      <th>17</th>\n",
       "      <td>1.80</td>\n",
       "      <td>87.03</td>\n",
       "      <td>na.jpg</td>\n",
       "    </tr>\n",
       "    <tr>\n",
       "      <th>18</th>\n",
       "      <td>1.85</td>\n",
       "      <td>88.79</td>\n",
       "      <td>na.jpg</td>\n",
       "    </tr>\n",
       "    <tr>\n",
       "      <th>19</th>\n",
       "      <td>1.90</td>\n",
       "      <td>90.43</td>\n",
       "      <td>na.jpg</td>\n",
       "    </tr>\n",
       "    <tr>\n",
       "      <th>20</th>\n",
       "      <td>1.95</td>\n",
       "      <td>92.99</td>\n",
       "      <td>na.jpg</td>\n",
       "    </tr>\n",
       "    <tr>\n",
       "      <th>21</th>\n",
       "      <td>2.00</td>\n",
       "      <td>95.38</td>\n",
       "      <td>na.jpg</td>\n",
       "    </tr>\n",
       "  </tbody>\n",
       "</table>\n",
       "</div>"
      ],
      "text/plain": [
       "    optical_axis_offset  mirror_radius foucaultgram\n",
       "0                  0.50          43.08       na.jpg\n",
       "1                  0.60          47.55       na.jpg\n",
       "2                  0.70          51.57       na.jpg\n",
       "3                  0.80          55.37       na.jpg\n",
       "4                  0.90          61.65       na.jpg\n",
       "5                  1.00          64.06       na.jpg\n",
       "6                  1.10          67.20       na.jpg\n",
       "7                  1.20          69.21       na.jpg\n",
       "8                  1.30          72.82       na.jpg\n",
       "9                  1.40          74.63       na.jpg\n",
       "10                 1.45          76.21       na.jpg\n",
       "11                 1.50          77.88       na.jpg\n",
       "12                 1.55          78.59       na.jpg\n",
       "13                 1.60          80.61       na.jpg\n",
       "14                 1.65          82.12       na.jpg\n",
       "15                 1.70          83.96       na.jpg\n",
       "16                 1.75          85.48       na.jpg\n",
       "17                 1.80          87.03       na.jpg\n",
       "18                 1.85          88.79       na.jpg\n",
       "19                 1.90          90.43       na.jpg\n",
       "20                 1.95          92.99       na.jpg\n",
       "21                 2.00          95.38       na.jpg"
      ]
     },
     "metadata": {},
     "output_type": "display_data"
    }
   ],
   "source": [
    "import pandas\n",
    "\n",
    "measurements_data_frame = pandas.DataFrame(measurements)\n",
    "\n",
    "display(measurements_data_frame) # Module display is part of library IPython\n",
    "\n",
    "measurements_data_frame = measurements_data_frame.iloc[:,:2] # Remove the column containing the Foucault image captures\n",
    "\n",
    "measurements_matrix = measurements_data_frame.to_numpy()\n",
    "x = measurements_matrix[:, 1]\n",
    "f = measurements_matrix[:, 0]"
   ]
  },
  {
   "cell_type": "markdown",
   "id": "81b4f882",
   "metadata": {},
   "source": [
    "kjhkjhkh"
   ]
  },
  {
   "cell_type": "code",
   "execution_count": 3,
   "id": "7e08d397",
   "metadata": {},
   "outputs": [],
   "source": [
    "import numpy\n",
    "from scipy import interpolate\n",
    "\n",
    "interpolate_f = interpolate.interp1d(x, f, kind=\"cubic\")\n",
    "\n",
    "num_samples = int((x[-1] - x[0])*2) # Generate 1 sample per 0.5mm increments \n",
    "\n",
    "x_e = numpy.linspace(x[0], x[-1], num=num_samples)\n",
    "f_e = interpolate_f(x_e)"
   ]
  },
  {
   "cell_type": "markdown",
   "id": "6ff5583b",
   "metadata": {},
   "source": [
    "kjhkhkjh"
   ]
  },
  {
   "cell_type": "code",
   "execution_count": 4,
   "id": "21f35412",
   "metadata": {},
   "outputs": [
    {
     "data": {
      "image/png": "[encoded data removed]",
      "text/plain": [
       "<Figure size 1080x480 with 1 Axes>"
      ]
     },
     "metadata": {
      "needs_background": "light"
     },
     "output_type": "display_data"
    }
   ],
   "source": [
    "%matplotlib inline\n",
    "from matplotlib import pyplot\n",
    "pyplot.rcParams['figure.figsize'] = [9, 4]\n",
    "pyplot.rcParams['figure.dpi'] = 120\n",
    "\n",
    "pyplot.title('Test measurements')\n",
    "pyplot.scatter(x, f, label=\"Raw test data\")\n",
    "pyplot.plot(x_e, f_e, \"g-\", label=\"Raw test data (interpolated)\")\n",
    "pyplot.plot([0.0, diameter/2], [0.0, 0.0], \"k\")\n",
    "pyplot.scatter(x, numpy.zeros(x.size), c=\"k\", marker=\"|\", label=\"Measurement points\")\n",
    "pyplot.xlabel('Mirror radius [mm]')\n",
    "pyplot.ylabel('Foucault/Wire test offsets [mm]')\n",
    "pyplot.legend()\n",
    "pyplot.show()"
   ]
  },
  {
   "cell_type": "code",
   "execution_count": 5,
   "id": "3f40934c",
   "metadata": {},
   "outputs": [],
   "source": [
    "from numba import jit\n",
    "\n",
    "@jit(nopython=True)\n",
    "def mirror_slope_ode_generic(x, f, g):\n",
    "    dg = numpy.divide(x, numpy.subtract(f, g))\n",
    "    return dg\n",
    "\n",
    "def mirror_slope_ode(x, g):\n",
    "    f_t = radius_of_curvature + interpolate_f(x)\n",
    "    dg = mirror_slope_ode_generic(x, f_t, g)\n",
    "    return dg"
   ]
  },
  {
   "cell_type": "code",
   "execution_count": 6,
   "id": "be181d2d",
   "metadata": {},
   "outputs": [
    {
     "name": "stdout",
     "output_type": "stream",
     "text": [
      "The solver successfully reached the end of the integration interval.\n"
     ]
    }
   ],
   "source": [
    "from scipy.integrate import solve_ivp\n",
    "\n",
    "ode_solution = solve_ivp(fun=mirror_slope_ode,\n",
    "                         t_span=[x_e[0], x_e[-1]],\n",
    "                         y0=[0.0],\n",
    "                         method=\"RK45\",\n",
    "                         t_eval=x_e,\n",
    "                         vectorized=True,\n",
    "                         dense_output=True)\n",
    "\n",
    "g = numpy.reshape(ode_solution.y, (-1))\n",
    "\n",
    "print(ode_solution.message)"
   ]
  },
  {
   "cell_type": "markdown",
   "id": "df9b4fa4",
   "metadata": {},
   "source": [
    "fdgfdfg"
   ]
  },
  {
   "cell_type": "code",
   "execution_count": 7,
   "id": "d9cd144c",
   "metadata": {},
   "outputs": [
    {
     "data": {
      "image/png": "[encoded data removed]",
      "text/plain": [
       "<Figure size 432x288 with 1 Axes>"
      ]
     },
     "metadata": {
      "needs_background": "light"
     },
     "output_type": "display_data"
    }
   ],
   "source": [
    "%matplotlib inline\n",
    "pyplot.rcParams['figure.figsize'] = [9, 4]\n",
    "pyplot.rcParams['figure.dpi'] = 120\n",
    "\n",
    "pyplot.title('Mirror profile')\n",
    "pyplot.plot(x_e, g, label=\"Mirror profile\")\n",
    "pyplot.plot([0.0, diameter/2], [0.0, 0.0], \"k\")\n",
    "pyplot.scatter(x, numpy.zeros(x.size), c=\"k\", marker=\"|\", label=\"Measurement points\")\n",
    "pyplot.xlabel('Mirror radius [mm]')\n",
    "pyplot.ylabel('Mirror surface height [mm]')\n",
    "pyplot.legend()\n",
    "pyplot.show()"
   ]
  },
  {
   "cell_type": "markdown",
   "id": "bfada20f",
   "metadata": {},
   "source": [
    "## 2.2. Finding the best fit conic curve\n",
    "\n",
    "In section 1.1, it was shown the relationship between test data and the mirror surface's profile.\n",
    "From that, a set of real test data was processed to obtain the shape of a real mirror under test.\n",
    "\n",
    "This section will in turn show how to characterize the quality of the mirror under test, and for that, curve fitting will be used.\n",
    "\n",
    "The general idea will be to find how the mirror under test profile compares to the desired profile - this will be accomplished through curve fitting and profile error measurement.\n",
    "\n",
    "As it may also be usefull to identify what generic conic best fits with the mirror profile, a generic best fit conic and error analysis will also be carried.\n",
    "\n",
    "To meet the requirements described above, we need to model the profile of an ideal mirror. For that we can check the industry standard in the optics industry and use the following model for aspheric surfaces (profile) from ISO 10110 Part 12:\n",
    "\n",
    "\\begin{equation}\n",
    "g^*(x) = \\frac{\\frac{x^2}{R}}{1 + \\sqrt{1 - (1 + k) \\left(\\frac{x}{R}\\right)^2 } } + d.\n",
    "\\end{equation}\n",
    "\n",
    "On the equation above:\n",
    "\n",
    "$g^*(x)$ represents the ideal conic section if we assume that the missor is a figure of revolution arround its optical $z$ axis,\n",
    "\n",
    "$x$ (and $y$ not represented here) represents the dimention along the mirror radius $r$ axis,\n",
    "\n",
    "$R$ represents the radius of curvature at vertex, meaning the radius of curvature of the shpere (or circle in our 1-D visualisation) that best fits the central zone of the mirror,\n",
    "\n",
    "$k$ is the conic constant (sphere: $k = 0$, paraboloid: $k=-1$, ...),\n",
    "\n",
    "an $d$ represents an offset on the $z$ axis, i.e., if the center of curvature of the best fit profile doesn't touch the $x$ axis, it's offset is non-zero and has value $d$.\n",
    "\n",
    "As stated initially, the purpose of this section will be to find the best fit curve, in other words, we need to find the set of parameters $R$, $k$ and $d$ that minimize the error between the ideal and measure mirror profile. For that we will use as the error measure the Root Mean Square Error (RMSE):\n",
    "\n",
    "\\begin{aligned}\n",
    "RMSE = \\sqrt{\\frac{1}{\\pi{r}^2} \\int_{0}^{r} e(x)^2 \\, 2\\pi x \\,dx}\n",
    "\\end{aligned}\n",
    "\n",
    "where $e(x) = g^{*}(x)-g(x)$, is the error between the ideal and measured profiles.\n",
    "\n",
    "Because we are assuming that the mirror under measurement is a perfect figure of revolution, and measurements taken are one dimensional only along the radius $x$, we are weighing each error point $e(x)$ with the mirror surface area increment it represents ($2\\pi x \\,dx$). The intuitive interpretation for this, is that the further the readings move from the center, the larger is the mirror area they represent and more impact on the overall error.\n",
    "\n",
    "### 2.2.1. Deriving the equations\n",
    "\n",
    "From the discussion above, it follows that:\n",
    "\n",
    "\\begin{aligned}\n",
    "RMSE^2 & = \\frac{1}{\\pi{r}^2} \\int_{0}^{r} (g^{*}(x)-g(x))^2 \\, 2\\pi x \\,dx \\\\\n",
    "& = \\frac{2}{r^2} \\int_{0}^{r} (g^{*}(x)-g(x))^2 \\, x \\,dx\n",
    "\\end{aligned}\n",
    "\n",
    "tbd aproximate cost function\n",
    "\n",
    "<img src=\"figures/diagram_3.svg\" width=\"300\"/>\n",
    "\n",
    "\\begin{aligned}\n",
    "RMSE^2 & \\approx \\frac{2}{r^2} \\sum_{n=1}^{N} \\left[ \\left(g^{*}(x_n)-g(x_n)\\right)^2 \\int_{\\frac{x_{n}+x_{n-1}}{2}}^{\\frac{x_{n+1}+x_{n}}{2}} x \\,dx \\right] \\\\\n",
    "& = \\frac{2}{r^2} \\sum_{n=1}^{N} \\left[ \\left(g^{*}(x_n)-g(x_n)\\right)^2 \\left(\\frac{x^2}{2}\\Big|_{\\frac{x_{n}+x_{n-1}}{2}}^{\\frac{x_{n+1}+x_{n}}{2}}\\right)\\right] \\\\\n",
    "& = \\frac{1}{r^2} \\sum_{n=1}^{N} \\left[ \\left(g^{*}(x_n)-g(x_n)\\right)^2 \\left( \\left( \\frac{x_{n+1} + x_{n}}{2} \\right)^2 - \\left( \\frac{x_{n} + x_{n-1}}{2} \\right)^2 \\right) \\right] \\\\\n",
    "& = \\frac{1}{4r^2} \\sum_{n=1}^{N} \\left[ \\left(g^{*}(x_n)-g(x_n)\\right)^2 \\left(x_{n+1}^2 + 2x_{n}(x_{n+1}-x_{n-1}) - x_{n-1}^2\\right) \\right]\n",
    "\\end{aligned}\n",
    "\n",
    "residuals...\n",
    "\n",
    "\\begin{equation}\n",
    "RMSE^2 = \\frac{1}{4r^2} \\sum_{n=1}^{N} r_n^2\n",
    "\\end{equation}\n",
    "\n",
    "with\n",
    "\n",
    "\\begin{equation}\n",
    "r_n = \\left(g^{*}(x_n)-g(x_n)\\right) \\sqrt{ x_{n+1}^2 + 2x_{n}(x_{n+1}-x_{n-1}) - x_{n-1}^2 }\n",
    "\\end{equation}\n",
    "\n",
    "\n",
    "jacobian\n",
    "\n"
   ]
  },
  {
   "cell_type": "markdown",
   "id": "d8c6910c",
   "metadata": {},
   "source": [
    "### 2.2.2. Best fit conic to real data "
   ]
  },
  {
   "cell_type": "markdown",
   "id": "e8669316",
   "metadata": {},
   "source": [
    "tbbd"
   ]
  },
  {
   "cell_type": "code",
   "execution_count": 8,
   "id": "c0f48144",
   "metadata": {},
   "outputs": [],
   "source": [
    "@jit(nopython=True)\n",
    "def aspheric_profile_function(x, k, R, d):\n",
    "    num = numpy.power(x, 2)/R\n",
    "    den = 1 + numpy.sqrt(1 - ((1 + k) * numpy.power(x, 2))/(R * R))\n",
    "    gp = numpy.divide(num, den) + d\n",
    "\n",
    "    return gp\n",
    "\n",
    "@jit(nopython=True)\n",
    "def aspheric_profile_jacobian(x, k, R, d):\n",
    "    sample_number = x.size\n",
    "\n",
    "    common = numpy.sqrt(1 - ((1 + k) * numpy.power(x, 2))/(R * R))\n",
    "\n",
    "    part_div_d = numpy.ones(sample_number) # Partial derivative on d\n",
    "\n",
    "    num = numpy.power(x, 4)\n",
    "    den = 2 * R * R * R * numpy.multiply(common, numpy.power(common + 1, 2))\n",
    "\n",
    "    part_div_k = numpy.divide(num, den) # Partial derivative on k\n",
    "\n",
    "    num = numpy.negative(numpy.power(x, 2))\n",
    "    den = R * R * numpy.multiply(common, common + 1)\n",
    "\n",
    "    part_div_R = numpy.divide(num, den) # Partial derivative on R\n",
    "    \n",
    "    jacobian_vector = numpy.vstack((part_div_k, part_div_R, part_div_d))\n",
    "    jacobian_vector = numpy.transpose(jacobian_vector)\n",
    "\n",
    "    return jacobian_vector"
   ]
  },
  {
   "cell_type": "markdown",
   "id": "614af874",
   "metadata": {},
   "source": [
    "tbd"
   ]
  },
  {
   "cell_type": "code",
   "execution_count": 9,
   "id": "b3b89112",
   "metadata": {},
   "outputs": [],
   "source": [
    "@jit(nopython=True)\n",
    "def residual_function(params, x, g):\n",
    "    k = params[0]; R = params[1]; d = params[2]\n",
    "    \n",
    "    residual = numpy.subtract(aspheric_profile_function(x, k, R, d), g) # difference part of the residual equation r_n\n",
    "        \n",
    "    xnm = numpy.roll(x, 1); xnm[0] = x[0] # x_(n - 1)\n",
    "    xn = x # x_n\n",
    "    xnp = numpy.roll(x, -1); xnp[-1] = x[-1] # x_(n + 1)\n",
    "    \n",
    "    weight_1 = numpy.power(xnp, 2)\n",
    "    weight_2 = 2 * numpy.multiply(xn, numpy.subtract(xnp, xnm))\n",
    "    weight_3 = numpy.power(xnm, 2)\n",
    "    weight = numpy.sqrt(numpy.add(weight_1, numpy.subtract(weight_2, weight_3))) # weight part of the residual equation r_n\n",
    "    \n",
    "    res = numpy.multiply(residual, weight)\n",
    "\n",
    "    return res\n",
    "\n",
    "@jit(nopython=True)\n",
    "def residual_jacobian(params, x, g):\n",
    "    k = params[0]; R = params[1]; d = params[2]\n",
    "    \n",
    "    xnm = numpy.roll(x, 1); xnm[0] = x[0] # x_(n - 1)\n",
    "    xn = x # x_n\n",
    "    xnp = numpy.roll(x, -1); xnp[-1] = x[-1] # x_(n + 1)\n",
    "    \n",
    "    weight_1 = numpy.power(xnp, 2)\n",
    "    weight_2 = 2 * numpy.multiply(xn, numpy.subtract(xnp, xnm))\n",
    "    weight_3 = numpy.power(xnm, 2)\n",
    "    weight = numpy.sqrt(numpy.add(weight_1, numpy.subtract(weight_2, weight_3))) # weight part of the residual equation r_n\n",
    "    \n",
    "    jac = aspheric_profile_jacobian(x, k, R, d)\n",
    "    jac = numpy.transpose(jac) # transposed jacobian matrix before multiplication to make numpy happy\n",
    "    jac_res = numpy.multiply(jac, weight)\n",
    "    jac_res = numpy.transpose(jac_res)\n",
    "\n",
    "    return jac_res"
   ]
  },
  {
   "cell_type": "markdown",
   "id": "2d474b53",
   "metadata": {},
   "source": [
    "tbd"
   ]
  },
  {
   "cell_type": "code",
   "execution_count": 10,
   "id": "c21c4d3b",
   "metadata": {},
   "outputs": [
    {
     "name": "stdout",
     "output_type": "stream",
     "text": [
      "`gtol` termination condition is satisfied.\n"
     ]
    }
   ],
   "source": [
    "from scipy.optimize import least_squares\n",
    "\n",
    "param_0 = numpy.array([-1.0, 2000.0, 0.1]) # k, R, d\n",
    "\n",
    "least_squares_solution = least_squares(fun=residual_function,\n",
    "                                       x0=param_0,\n",
    "                                       jac=residual_jacobian,\n",
    "                                       method=\"trf\",\n",
    "                                       loss=\"linear\",\n",
    "                                       args=(x_e, g))\n",
    "\n",
    "print(least_squares_solution.message)"
   ]
  },
  {
   "cell_type": "markdown",
   "id": "72826b74",
   "metadata": {},
   "source": [
    "tbd"
   ]
  },
  {
   "cell_type": "code",
   "execution_count": 11,
   "id": "f4d92c81",
   "metadata": {},
   "outputs": [
    {
     "name": "stdout",
     "output_type": "stream",
     "text": [
      "Best fit k: -0.957\n",
      "Best fit R: 2132.532\n",
      "Best fit d: -0.435\n"
     ]
    }
   ],
   "source": [
    "print(\"Best fit k: {0:.3f}\".format(least_squares_solution.x[0]))\n",
    "print(\"Best fit R: {0:.3f}\".format(least_squares_solution.x[1]))\n",
    "print(\"Best fit d: {0:.3f}\".format(least_squares_solution.x[2]))"
   ]
  },
  {
   "cell_type": "code",
   "execution_count": 12,
   "id": "25fa7ae1",
   "metadata": {},
   "outputs": [],
   "source": [
    "gp = aspheric_profile_function(x_e, least_squares_solution.x[0], least_squares_solution.x[1], least_squares_solution.x[2])"
   ]
  },
  {
   "cell_type": "code",
   "execution_count": 13,
   "id": "53277e36",
   "metadata": {},
   "outputs": [
    {
     "data": {
      "image/png": "[encoded data removed]",
      "text/plain": [
       "<Figure size 432x288 with 1 Axes>"
      ]
     },
     "metadata": {
      "needs_background": "light"
     },
     "output_type": "display_data"
    }
   ],
   "source": [
    "%matplotlib inline\n",
    "pyplot.rcParams['figure.figsize'] = [9, 4]\n",
    "pyplot.rcParams['figure.dpi'] = 120\n",
    "\n",
    "pyplot.title('Mirror profile')\n",
    "pyplot.plot(x_e, g, label=\"Mirror profile\")\n",
    "pyplot.plot(x_e, gp, label=\"Best fit Mirror profile\")\n",
    "pyplot.plot([0.0, diameter/2], [0.0, 0.0], \"k\")\n",
    "pyplot.scatter(x, numpy.zeros(x.size), c=\"k\", marker=\"|\", label=\"Measurement points\")\n",
    "pyplot.xlabel('Mirror radius [mm]')\n",
    "pyplot.ylabel('Mirror surface height [mm]')\n",
    "pyplot.legend()\n",
    "pyplot.show()"
   ]
  },
  {
   "cell_type": "code",
   "execution_count": 14,
   "id": "ae6c13e1",
   "metadata": {},
   "outputs": [],
   "source": [
    "g_error = numpy.subtract(g, gp)"
   ]
  },
  {
   "cell_type": "code",
   "execution_count": 15,
   "id": "e1b614d3",
   "metadata": {},
   "outputs": [
    {
     "data": {
      "image/png": "[encoded data removed]",
      "text/plain": [
       "<Figure size 432x288 with 1 Axes>"
      ]
     },
     "metadata": {
      "needs_background": "light"
     },
     "output_type": "display_data"
    }
   ],
   "source": [
    "%matplotlib inline\n",
    "pyplot.rcParams['figure.figsize'] = [9, 4]\n",
    "pyplot.rcParams['figure.dpi'] = 120\n",
    "\n",
    "pyplot.title('Mirror profile error')\n",
    "pyplot.plot(x_e, g_error, label=\"Mirror profile error\")\n",
    "pyplot.plot([0.0, diameter/2], [0.0, 0.0], \"k\")\n",
    "pyplot.scatter(x, numpy.zeros(x.size), c=\"k\", marker=\"|\", label=\"Measurement points\")\n",
    "pyplot.xlabel('Mirror radius [mm]')\n",
    "pyplot.ylabel('Fitting error [mm]')\n",
    "pyplot.legend()\n",
    "pyplot.show()"
   ]
  },
  {
   "cell_type": "markdown",
   "id": "c65b5699",
   "metadata": {},
   "source": [
    "### 2.2.3. Fit desired conic to real data "
   ]
  },
  {
   "cell_type": "code",
   "execution_count": null,
   "id": "d5746dbe",
   "metadata": {},
   "outputs": [],
   "source": []
  },
  {
   "cell_type": "code",
   "execution_count": null,
   "id": "c04222a0",
   "metadata": {},
   "outputs": [],
   "source": []
  },
  {
   "cell_type": "code",
   "execution_count": null,
   "id": "318745d4",
   "metadata": {},
   "outputs": [],
   "source": []
  }
 ],
 "metadata": {
  "kernelspec": {
   "display_name": "Python 3 (ipykernel)",
   "language": "python",
   "name": "python3"
  },
  "language_info": {
   "codemirror_mode": {
    "name": "ipython",
    "version": 3
   },
   "file_extension": ".py",
   "mimetype": "text/x-python",
   "name": "python",
   "nbconvert_exporter": "python",
   "pygments_lexer": "ipython3",
   "version": "3.8.12"
  }
 },
 "nbformat": 4,
 "nbformat_minor": 5
}
