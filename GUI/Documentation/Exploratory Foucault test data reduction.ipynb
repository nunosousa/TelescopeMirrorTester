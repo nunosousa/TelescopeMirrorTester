{
 "cells": [
  {
   "cell_type": "markdown",
   "id": "fba93474",
   "metadata": {},
   "source": [
    "# Focault test data reduction\n",
    "\n",
    "This document will describe step by step the process of extracting the surface profile of a telescope mirror from Foucault test data.\n",
    "\n",
    "## Derivation of the mirror curve from test data\n",
    "\n",
    "$Z(x) = (x, z(x))$\n",
    "\n",
    "$F(x) = (0, f(x))$\n",
    "\n",
    "$T(x) = \\frac{Z'(x)}{\\|Z'(x)\\|} = \\left(\\frac{1}{\\|Z'(x)\\|}, \\frac{z'(x)}{\\|Z'(x)\\|}\\right)$\n",
    "\n",
    "$F(x) - Z(x) = (0-x, f(x)-z(x)) = (-x, f(x)-z(x))$\n",
    "\n",
    "$T(x)\\cdot(F(x) - Z(x)) = 0$\n",
    "\n",
    "$$\n",
    "\n",
    "### kjhkhkhkjh"
   ]
  },
  {
   "cell_type": "code",
   "execution_count": null,
   "id": "fd4b74e2",
   "metadata": {},
   "outputs": [],
   "source": []
  },
  {
   "cell_type": "code",
   "execution_count": null,
   "id": "7e08d397",
   "metadata": {},
   "outputs": [],
   "source": []
  },
  {
   "cell_type": "code",
   "execution_count": null,
   "id": "822405b3",
   "metadata": {},
   "outputs": [],
   "source": []
  }
 ],
 "metadata": {
  "kernelspec": {
   "display_name": "Python 3",
   "language": "python",
   "name": "python3"
  },
  "language_info": {
   "codemirror_mode": {
    "name": "ipython",
    "version": 3
   },
   "file_extension": ".py",
   "mimetype": "text/x-python",
   "name": "python",
   "nbconvert_exporter": "python",
   "pygments_lexer": "ipython3",
   "version": "3.8.8"
  }
 },
 "nbformat": 4,
 "nbformat_minor": 5
}
