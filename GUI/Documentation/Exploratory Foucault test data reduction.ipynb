{
 "cells": [
  {
   "cell_type": "markdown",
   "id": "99b1d84f",
   "metadata": {},
   "source": [
    "# Focault test data reduction\n",
    "\n",
    "This document will describe step by step the process of extracting the surface profile of a telescope mirror from Foucault test data.\n",
    "\n",
    "## Mathematical foundation\n",
    "\n",
    "$Z(x) = (x, z(x))$\n",
    "\n",
    "$F(x) = (0, f(x))$\n",
    "\n",
    "$T(x) = \\frac{Z'(x)}{\\|Z'(x)\\|} = \\left(\\frac{1}{\\|Z'(x)\\|}, \\frac{z'(x)}{\\|Z'(x)\\|}\\right)$\n",
    "\n",
    "$F(x) - Z(x) = (0-x, f(x)-z(x)) = (-x, f(x)-z(x))$\n",
    "\n",
    "$T(x)\\cdot(F(x) - Z(x)) = 0$\n",
    "\n",
    "$$\n",
    "\n",
    "### kjhkhkhkjh"
   ]
  },
  {
   "cell_type": "code",
   "execution_count": null,
   "id": "66dc86b9",
   "metadata": {},
   "outputs": [],
   "source": []
  },
  {
   "cell_type": "code",
   "execution_count": null,
   "id": "a7be619f",
   "metadata": {},
   "outputs": [],
   "source": []
  },
  {
   "cell_type": "code",
   "execution_count": null,
   "id": "3d2737af",
   "metadata": {},
   "outputs": [],
   "source": []
  }
 ],
 "metadata": {
  "kernelspec": {
   "display_name": "Python 3",
   "language": "python",
   "name": "python3"
  },
  "language_info": {
   "codemirror_mode": {
    "name": "ipython",
    "version": 3
   },
   "file_extension": ".py",
   "mimetype": "text/x-python",
   "name": "python",
   "nbconvert_exporter": "python",
   "pygments_lexer": "ipython3",
   "version": "3.8.8"
  }
 },
 "nbformat": 4,
 "nbformat_minor": 5
}
