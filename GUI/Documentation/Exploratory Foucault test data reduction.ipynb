{
 "cells": [
  {
   "cell_type": "markdown",
   "id": "fba93474",
   "metadata": {},
   "source": [
    "# Focault test data reduction\n",
    "\n",
    "This document will describe step by step the process of extracting the surface profile of a telescope mirror from Foucault or Wire test data.\n",
    "\n",
    "## Modeling the data\n",
    "\n",
    "Before jumping into the simulation, we need to find the model that will obtain the mirror surface profile from test data.\n",
    "After that, we will perform a simulation with real world data.\n",
    "\n",
    "### Derivation of the equations\n",
    "\n",
    "First we need to derive the set of equations that will alow to obtaing the mirror surface profile from test data.\n",
    "\n",
    "For a generic concave mirror surface, the Foucault or Wire tests will show for each mirror radius the equivalent radius of curvature it has. This can be interpreted as finding a succession of spherical surfaces that approximate the existing mirror surface (dashed curve in figure). Obviously that for a completely spherical mirror surface, there is exactly one sphere that matches the whole surface.\n",
    "\n",
    "<img src=\"figures/diagram_1.svg\"/>\n",
    "\n",
    "The result of these tests is a set of data pairs consisting of mirror diameter $x$ (independent variable) and its respective radius of curvature $f(x)$ (dependent variable).\n",
    "\n",
    "To help formulate the equations that model these tests, we can instead think of vectors $G(x)$ and $F(x)$ representing surface height respective to its center and radius of curvature respectively:\n",
    "\n",
    "$G(x) = \\langle x, g(x) \\rangle$\n",
    "\n",
    "$F(x) = \\langle 0, f(x) \\rangle$\n",
    "\n",
    "Subtracting the two vectors gives:\n",
    "\n",
    "$F(x) - G(x) = \\langle 0 - x, f(x)-g(x) \\rangle = \\langle -x, f(x) - g(x) \\rangle$\n",
    "\n",
    "If we then represent the tangent vector to mirror surface at $G(x)$:\n",
    "\n",
    "$T(x) = \\frac{G'(x)}{|G'(x)|} = \\langle\\frac{1}{|G'(x)|}, \\frac{z'(x)}{|G'(x)|}\\rangle$\n",
    "\n",
    "Then it follows that:\n",
    "\n",
    "$T(x) \\cdot (F(x) - G(x)) = 0$\n",
    "\n",
    "$\\left( - \\frac{x}{|G'(x)|} + (f(x) - g(x))\\frac{g'(x)}{|G'(x)|} \\right) = 0$\n",
    "\n",
    "$(f(x) - g(x))g'(x) = x$\n",
    "\n",
    "This results in the following differential equation:\n",
    "\n",
    "$g'(x) = \\frac{x}{f(x) - g(x)}$\n",
    "\n",
    "Knowing the data pairs $x$ and $f(x)$, we can integrate the equation above and get the mirror surface profile.\n",
    "\n",
    "### Finding a solution\n",
    "\n",
    "Now in order to ... tbd Runge Kutta\n",
    "\n",
    "## Real world example"
   ]
  },
  {
   "cell_type": "markdown",
   "id": "cf65d795",
   "metadata": {},
   "source": [
    "The real world collected data that will be used in this exercise is stored in a JSON file.\n",
    "\n",
    "First we need to read the test data from the JSON file."
   ]
  },
  {
   "cell_type": "code",
   "execution_count": 1,
   "id": "ca36a82d",
   "metadata": {},
   "outputs": [],
   "source": [
    "import json\n",
    "\n",
    "with open('mirror_measurements_database.json', \"r\") as data_base_file:\n",
    "    data_base = json.load(data_base_file)\n",
    "    data_base_file.close()\n",
    "\n",
    "\n",
    "measurements = sorted(data_base['measurements'], key=lambda m: m['optical_axis_offset'])"
   ]
  },
  {
   "cell_type": "markdown",
   "id": "dc339835",
   "metadata": {},
   "source": [
    "For convenience and to allow later use of the SciPy mathematical functions, we will first transform the data into Numpy arrays."
   ]
  },
  {
   "cell_type": "code",
   "execution_count": 2,
   "id": "c4126bdb",
   "metadata": {},
   "outputs": [
    {
     "data": {
      "text/html": [
       "<div>\n",
       "<style scoped>\n",
       "    .dataframe tbody tr th:only-of-type {\n",
       "        vertical-align: middle;\n",
       "    }\n",
       "\n",
       "    .dataframe tbody tr th {\n",
       "        vertical-align: top;\n",
       "    }\n",
       "\n",
       "    .dataframe thead th {\n",
       "        text-align: right;\n",
       "    }\n",
       "</style>\n",
       "<table border=\"1\" class=\"dataframe\">\n",
       "  <thead>\n",
       "    <tr style=\"text-align: right;\">\n",
       "      <th></th>\n",
       "      <th>optical_axis_offset</th>\n",
       "      <th>mirror_radius</th>\n",
       "      <th>foucaultgram</th>\n",
       "    </tr>\n",
       "  </thead>\n",
       "  <tbody>\n",
       "    <tr>\n",
       "      <th>0</th>\n",
       "      <td>1.0</td>\n",
       "      <td>5.4</td>\n",
       "      <td>img_1.jpg</td>\n",
       "    </tr>\n",
       "    <tr>\n",
       "      <th>1</th>\n",
       "      <td>1.1</td>\n",
       "      <td>10.1</td>\n",
       "      <td>img_3.jpg</td>\n",
       "    </tr>\n",
       "    <tr>\n",
       "      <th>2</th>\n",
       "      <td>1.2</td>\n",
       "      <td>20.4</td>\n",
       "      <td>img_3.jpg</td>\n",
       "    </tr>\n",
       "    <tr>\n",
       "      <th>3</th>\n",
       "      <td>1.3</td>\n",
       "      <td>30.4</td>\n",
       "      <td>img_3.jpg</td>\n",
       "    </tr>\n",
       "    <tr>\n",
       "      <th>4</th>\n",
       "      <td>1.4</td>\n",
       "      <td>40.4</td>\n",
       "      <td>img_3.jpg</td>\n",
       "    </tr>\n",
       "    <tr>\n",
       "      <th>5</th>\n",
       "      <td>1.5</td>\n",
       "      <td>50.4</td>\n",
       "      <td>img_3.jpg</td>\n",
       "    </tr>\n",
       "    <tr>\n",
       "      <th>6</th>\n",
       "      <td>1.6</td>\n",
       "      <td>60.4</td>\n",
       "      <td>img_3.jpg</td>\n",
       "    </tr>\n",
       "    <tr>\n",
       "      <th>7</th>\n",
       "      <td>1.7</td>\n",
       "      <td>70.4</td>\n",
       "      <td>img_3.jpg</td>\n",
       "    </tr>\n",
       "  </tbody>\n",
       "</table>\n",
       "</div>"
      ],
      "text/plain": [
       "   optical_axis_offset  mirror_radius foucaultgram\n",
       "0                  1.0            5.4    img_1.jpg\n",
       "1                  1.1           10.1    img_3.jpg\n",
       "2                  1.2           20.4    img_3.jpg\n",
       "3                  1.3           30.4    img_3.jpg\n",
       "4                  1.4           40.4    img_3.jpg\n",
       "5                  1.5           50.4    img_3.jpg\n",
       "6                  1.6           60.4    img_3.jpg\n",
       "7                  1.7           70.4    img_3.jpg"
      ]
     },
     "metadata": {},
     "output_type": "display_data"
    }
   ],
   "source": [
    "import pandas\n",
    "\n",
    "measurements_data_frame = pandas.DataFrame(measurements)\n",
    "\n",
    "display(measurements_data_frame) # Module display is part of library IPython\n",
    "\n",
    "measurements_data_frame = measurements_data_frame.iloc[:,:2] # Remove the column containing the Foucault image captures\n",
    "\n",
    "measurements_matrix = measurements_data_frame.to_numpy()\n",
    "x = measurements_matrix[:, 1]\n",
    "f = measurements_matrix[:, 0]"
   ]
  },
  {
   "cell_type": "markdown",
   "id": "81b4f882",
   "metadata": {},
   "source": [
    "kjhkjhkh"
   ]
  },
  {
   "cell_type": "code",
   "execution_count": 3,
   "id": "7e08d397",
   "metadata": {},
   "outputs": [],
   "source": [
    "from scipy import interpolate\n",
    "import numpy\n",
    "\n",
    "interpolation_function = interpolate.interp1d(x, f, kind=\"cubic\")\n",
    "\n",
    "num_samples = int((x[-1] - x[0])*2)\n",
    "\n",
    "x_interpolated = numpy.linspace(x[0], x[-1], num=num_samples)\n",
    "f_interpolated = interpolation_function(x_interpolated)"
   ]
  },
  {
   "cell_type": "markdown",
   "id": "6ff5583b",
   "metadata": {},
   "source": [
    "kjhkhkjh"
   ]
  },
  {
   "cell_type": "code",
   "execution_count": 4,
   "id": "3f40934c",
   "metadata": {},
   "outputs": [],
   "source": [
    "def aspheric_surface_ode(r, z, f):\n",
    "    dz = np.divide(r, np.subtract(f, z))\n",
    "    return dz"
   ]
  },
  {
   "cell_type": "code",
   "execution_count": 5,
   "id": "be181d2d",
   "metadata": {},
   "outputs": [
    {
     "ename": "NameError",
     "evalue": "name 'r_sample_points' is not defined",
     "output_type": "error",
     "traceback": [
      "\u001b[1;31m---------------------------------------------------------------------------\u001b[0m",
      "\u001b[1;31mNameError\u001b[0m                                 Traceback (most recent call last)",
      "\u001b[1;32m~\\AppData\\Local\\Temp/ipykernel_16344/928088121.py\u001b[0m in \u001b[0;36m<module>\u001b[1;34m\u001b[0m\n\u001b[0;32m      3\u001b[0m \u001b[1;33m\u001b[0m\u001b[0m\n\u001b[0;32m      4\u001b[0m ode_solution = solve_ivp(fun=lambda r, z: aspheric_surface_ode(r, z, test_data_interpolation_function(r)),\n\u001b[1;32m----> 5\u001b[1;33m                          \u001b[0mt_span\u001b[0m\u001b[1;33m=\u001b[0m\u001b[1;33m[\u001b[0m\u001b[0mr_sample_points\u001b[0m\u001b[1;33m[\u001b[0m\u001b[1;36m0\u001b[0m\u001b[1;33m]\u001b[0m\u001b[1;33m,\u001b[0m \u001b[0mr_sample_points\u001b[0m\u001b[1;33m[\u001b[0m\u001b[1;33m-\u001b[0m\u001b[1;36m1\u001b[0m\u001b[1;33m]\u001b[0m\u001b[1;33m]\u001b[0m\u001b[1;33m,\u001b[0m\u001b[1;33m\u001b[0m\u001b[1;33m\u001b[0m\u001b[0m\n\u001b[0m\u001b[0;32m      6\u001b[0m                          \u001b[0my0\u001b[0m\u001b[1;33m=\u001b[0m\u001b[1;33m[\u001b[0m\u001b[1;36m0.0\u001b[0m\u001b[1;33m]\u001b[0m\u001b[1;33m,\u001b[0m\u001b[1;33m\u001b[0m\u001b[1;33m\u001b[0m\u001b[0m\n\u001b[0;32m      7\u001b[0m                          \u001b[0mmethod\u001b[0m\u001b[1;33m=\u001b[0m\u001b[1;34m\"RK45\"\u001b[0m\u001b[1;33m,\u001b[0m\u001b[1;33m\u001b[0m\u001b[1;33m\u001b[0m\u001b[0m\n",
      "\u001b[1;31mNameError\u001b[0m: name 'r_sample_points' is not defined"
     ]
    }
   ],
   "source": [
    "from scipy.integrate import solve_ivp\n",
    "\n",
    "\n",
    "ode_solution = solve_ivp(fun=lambda r, z: aspheric_surface_ode(r, z, test_data_interpolation_function(r)),\n",
    "                         t_span=[r_sample_points[0], r_sample_points[-1]],\n",
    "                         y0=[0.0],\n",
    "                         method=\"RK45\",\n",
    "                         t_eval=r_sample_points,\n",
    "                         dense_output=True)\n",
    "\n",
    "solve_bvp()"
   ]
  },
  {
   "cell_type": "code",
   "execution_count": null,
   "id": "6ee8eda6",
   "metadata": {},
   "outputs": [],
   "source": [
    "results = (r_sample_points,\n",
    "           f_test_data_interpolated_points - self.mirror_details['expected_radius_of_curvature'],\n",
    "           np.reshape(ode_solution.y, (-1)))"
   ]
  }
 ],
 "metadata": {
  "kernelspec": {
   "display_name": "Python 3 (ipykernel)",
   "language": "python",
   "name": "python3"
  },
  "language_info": {
   "codemirror_mode": {
    "name": "ipython",
    "version": 3
   },
   "file_extension": ".py",
   "mimetype": "text/x-python",
   "name": "python",
   "nbconvert_exporter": "python",
   "pygments_lexer": "ipython3",
   "version": "3.8.12"
  }
 },
 "nbformat": 4,
 "nbformat_minor": 5
}
